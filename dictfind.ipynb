{
 "cells": [
  {
   "cell_type": "code",
   "execution_count": 219,
   "metadata": {},
   "outputs": [],
   "source": [
    "from urllib.request import urlopen\n",
    "from urllib.parse import quote\n",
    "import ssl\n",
    "import certifi\n",
    "from bs4 import BeautifulSoup as b\n",
    "from re import compile as c\n",
    "from time import sleep\n"
   ]
  },
  {
   "cell_type": "code",
   "execution_count": 81,
   "metadata": {},
   "outputs": [],
   "source": [
    "word='มะ'"
   ]
  },
  {
   "cell_type": "code",
   "execution_count": 210,
   "metadata": {},
   "outputs": [],
   "source": [
    "#request = \"https://dict.longdo.com/search/\"+quote('ปากกา')\n",
    "#urlopen(request, context=ssl.create_default_context(cafile=certifi.where()))\n",
    "def meaning(word):\n",
    "   with urlopen(\"https://dict.longdo.com/search/\"+quote(word), context=ssl.create_default_context(cafile=certifi.where())) as response:\n",
    "      html = response.read()\n",
    "   soup=b(html)\n",
    "   royin=soup.find(href=\"https://www.orst.go.th/\").next_element.next_element\n",
    "   x=len(royin.find_all(href=\"search/\"+word))+len(royin.find_all(href=c('search/{} [๐-๙]'.format(word))))\n",
    "\n",
    "   return x,royin.find(href=c('search/{}( [๐-๙])?'.format(word))).next_element.next_element.next_element.next_element"
   ]
  },
  {
   "cell_type": "code",
   "execution_count": 228,
   "metadata": {},
   "outputs": [
    {
     "name": "stdout",
     "output_type": "stream",
     "text": [
      "120\n",
      "121\n",
      "122\n",
      "123\n",
      "124\n",
      "125\n",
      "126\n",
      "127\n",
      "128\n",
      "129\n",
      "130\n",
      "not found\n",
      "131\n",
      "132\n",
      "133\n",
      "134\n",
      "135\n",
      "136\n",
      "137\n",
      "138\n",
      "139\n",
      "140\n",
      "141\n",
      "142\n",
      "143\n",
      "not found\n",
      "144\n",
      "145\n",
      "146\n",
      "147\n",
      "148\n",
      "149\n"
     ]
    }
   ],
   "source": [
    "f = open(\"longest.txt\", \"r\")\n",
    "words = f.readlines()\n",
    "writer = open('deflong.txt','a')\n",
    "start=120\n",
    "for n,w in enumerate(words[start:150]):\n",
    "    w=w.split(',')[0]\n",
    "    try:\n",
    "        writer.write('{},{},{}\\n'.format(n+start,w,meaning(w)[1]))\n",
    "    except AttributeError:print('not found')\n",
    "    sleep(0.02)\n",
    "    print(n+start)\n",
    "writer.close()"
   ]
  },
  {
   "cell_type": "code",
   "execution_count": 214,
   "metadata": {},
   "outputs": [
    {
     "name": "stdout",
     "output_type": "stream",
     "text": [
      "ไม่เห็นน้ำตัดกระบอกไม่เห็นกระรอกก่งหน้าไม้\n",
      "1\n",
      "ว. ด่วนทำไปทั้ง ๆ ที่ยังไม่ถึงเวลาอันสมควร.\n"
     ]
    }
   ],
   "source": [
    "word= 'ไม่เห็นน้ำตัดกระบอกไม่เห็นกระรอกก่งหน้าไม้'\n",
    "print(w)\n",
    "with urlopen(\"https://dict.longdo.com/search/\"+quote(word), context=ssl.create_default_context(cafile=certifi.where())) as response:\n",
    "\thtml = response.read()\n",
    "soup=b(html)\n",
    "royin=soup.find(href=\"https://www.orst.go.th/\").next_element.next_element\n",
    "print(len(royin.find_all(href=\"search/\"+word))+len(royin.find_all(href=c('search/{} [๐-๙]'.format(word)))))\n",
    "print(royin.find(href=c('search/{}( [๐-๙])?'.format(word))).next_element.next_element.next_element.next_element)\n"
   ]
  },
  {
   "cell_type": "code",
   "execution_count": 199,
   "metadata": {},
   "outputs": [
    {
     "data": {
      "text/plain": [
       "'ก. รู้ประมาณความสามารถของตนไม่อาจเอื้อมเกินตัว.'"
      ]
     },
     "execution_count": 199,
     "metadata": {},
     "output_type": "execute_result"
    }
   ],
   "source": [
    "royin.find(href=c('search/{}( [๐-๙])?'.format(word))).next_element.next_element.next_element.next_element"
   ]
  },
  {
   "cell_type": "code",
   "execution_count": 180,
   "metadata": {},
   "outputs": [
    {
     "name": "stdout",
     "output_type": "stream",
     "text": [
      "<a href=\"search/ศาลทรัพย์สินทางปัญญาและการค้าระหว่างประเทศ\" style=\"color: black\"><b>ศาลทรัพย์สินทางปัญญาและการค้าระหว่างประเทศ</b></a>\n"
     ]
    },
    {
     "ename": "AttributeError",
     "evalue": "'NoneType' object has no attribute 'next_element'",
     "output_type": "error",
     "traceback": [
      "\u001b[0;31m---------------------------------------------------------------------------\u001b[0m",
      "\u001b[0;31mAttributeError\u001b[0m                            Traceback (most recent call last)",
      "\u001b[1;32m/Users/ntt/Downloads/36568e5aaa73790e718757ff5f481afe-51fa364bab4783596c3192c2c1d4b155fbdac83d/dictfind.ipynb Cell 7\u001b[0m line \u001b[0;36m1\n\u001b[0;32m----> <a href='vscode-notebook-cell:/Users/ntt/Downloads/36568e5aaa73790e718757ff5f481afe-51fa364bab4783596c3192c2c1d4b155fbdac83d/dictfind.ipynb#X12sZmlsZQ%3D%3D?line=0'>1</a>\u001b[0m \u001b[39mprint\u001b[39;49m(royin\u001b[39m.\u001b[39;49mfind(href\u001b[39m=\u001b[39;49mc(\u001b[39m'\u001b[39;49m\u001b[39msearch/\u001b[39;49m\u001b[39m{}\u001b[39;49;00m\u001b[39m'\u001b[39;49m\u001b[39m.\u001b[39;49mformat(word))))\u001b[39m.\u001b[39;49mnext_element\u001b[39m.\u001b[39mnext_element\n",
      "\u001b[0;31mAttributeError\u001b[0m: 'NoneType' object has no attribute 'next_element'"
     ]
    }
   ],
   "source": [
    "print(royin.find(href=c('search/{}'.format(word)))).next_element.next_element"
   ]
  },
  {
   "cell_type": "code",
   "execution_count": 99,
   "metadata": {},
   "outputs": [
    {
     "data": {
      "text/plain": [
       "[<a href=\"search/น้ำ\" style=\"color: black\"><b>น้ำ</b></a>,\n",
       " <a href=\"search/น้ำ\" style=\"color: black\"><b>น้ำ</b></a>,\n",
       " <a href=\"search/น้ำ\" style=\"color: black\"><b>น้ำ</b></a>,\n",
       " <a href=\"search/น้ำ\" style=\"color: black\"><b>น้ำ</b></a>,\n",
       " <a href=\"search/น้ำ\" style=\"color: black\"><b>น้ำ</b></a>]"
      ]
     },
     "execution_count": 99,
     "metadata": {},
     "output_type": "execute_result"
    }
   ],
   "source": [
    "royin.find_all(href=\"search/\"+word)+royin.find_all(href=c('search/{} [๐-๙]'.format(word)))"
   ]
  }
 ],
 "metadata": {
  "kernelspec": {
   "display_name": "Python 3",
   "language": "python",
   "name": "python3"
  },
  "language_info": {
   "codemirror_mode": {
    "name": "ipython",
    "version": 3
   },
   "file_extension": ".py",
   "mimetype": "text/x-python",
   "name": "python",
   "nbconvert_exporter": "python",
   "pygments_lexer": "ipython3",
   "version": "3.12.0"
  }
 },
 "nbformat": 4,
 "nbformat_minor": 2
}
